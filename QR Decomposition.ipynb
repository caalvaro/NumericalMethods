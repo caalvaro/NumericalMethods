{
 "cells": [
  {
   "cell_type": "code",
   "execution_count": 2,
   "id": "c7be5bf4",
   "metadata": {},
   "outputs": [],
   "source": [
    "using LinearAlgebra"
   ]
  },
  {
   "cell_type": "markdown",
   "id": "2f1701f5",
   "metadata": {},
   "source": [
    "A Decomposição QR consiste em encontrar duas matrizes $Q$ e $R$ tais que $A = QR$.\n",
    "\n",
    "Onde:\n",
    "\n",
    "\n",
    "   $Q$ é uma matriz ortogonal que representa uma base ortonormal para $A$.\n",
    "   \n",
    "   \n",
    "   $R$ é uma matriz triangular superior que representa as coordenadas dos vetores de A na base ortogonal Q.\n",
    "  "
   ]
  },
  {
   "cell_type": "markdown",
   "id": "a4d5ed57",
   "metadata": {},
   "source": [
    "O algoritmo abaixo é uma forma de encontrar essa decomposição baseada no algoritmo de ortogonalização de Gram-Schmidt."
   ]
  },
  {
   "cell_type": "code",
   "execution_count": 3,
   "id": "03cfb5f9",
   "metadata": {},
   "outputs": [
    {
     "data": {
      "text/plain": [
       "qrDecomposition (generic function with 1 method)"
      ]
     },
     "execution_count": 3,
     "metadata": {},
     "output_type": "execute_result"
    }
   ],
   "source": [
    "# Recebe uma matriz A como parâmetro\n",
    "# Retorna duas matrizes Q e R\n",
    "#\n",
    "function qrDecomposition(A)\n",
    "    m, n = size(A) \n",
    "    \n",
    "    Q = zeros(m, n) # vetores de A ortonormalizados\n",
    "    R = zeros(n, n) # matriz de coordenadas para A na base Q\n",
    "    \n",
    "    # primeira iteração\n",
    "    a1 = A[:,1]\n",
    "    r11 = norm(a1)\n",
    "    q1 =  a1 / r11    # normaliza o primeiro vetor\n",
    "    Q[:,1] = q1       # adiciona o vetor na matriz Q\n",
    "    R[1,1] = r11      # adiciona a coordenada de \n",
    "    \n",
    "    for i = 2:n\n",
    "        a = copy(A[:,i])  \n",
    "        ai = copy(A[:,i])\n",
    "        \n",
    "        for j = 1:(i-1)\n",
    "            qj = copy(Q[:,j])\n",
    "            rji = ai'*qj\n",
    "            \n",
    "            a = a - qj*(rji)\n",
    "            \n",
    "            R[j,i] = rji\n",
    "        end\n",
    "        \n",
    "        rii = norm(a)\n",
    "        q = copy(a) / rii\n",
    "        \n",
    "        Q[:,i] = copy(q)\n",
    "        R[i,i] = rii\n",
    "    end\n",
    "    \n",
    "    return Q, R\n",
    "end"
   ]
  },
  {
   "cell_type": "markdown",
   "id": "4d5e9b99",
   "metadata": {},
   "source": [
    "### Testes:"
   ]
  },
  {
   "cell_type": "code",
   "execution_count": 14,
   "id": "5eabffa5",
   "metadata": {},
   "outputs": [
    {
     "data": {
      "text/plain": [
       "4×4 Matrix{Float64}:\n",
       " -1.18967    -0.683629   0.836411  -0.000646688\n",
       "  0.0043093  -0.749437   0.177539   1.17605\n",
       " -1.15811     0.204138  -0.724151  -1.76278\n",
       "  0.289404   -1.01461    0.642031   0.968888"
      ]
     },
     "execution_count": 14,
     "metadata": {},
     "output_type": "execute_result"
    }
   ],
   "source": [
    "A = randn(4,4)"
   ]
  },
  {
   "cell_type": "code",
   "execution_count": 15,
   "id": "6972438d",
   "metadata": {},
   "outputs": [
    {
     "data": {
      "text/plain": [
       "([-0.7058993909852055 -0.39339934004739274 0.5783535041793421 0.11158061328235964; 0.00255695879760969 -0.5208760763362031 -0.48650607462241663 0.7014224222376961; -0.6871765471111031 0.2211090867044838 -0.6354503986053137 -0.27404736048631967; 0.17172042647537655 -0.7245935716852495 -0.15818297781781454 -0.6484245496063648], [1.6853220946926593 0.16614951798602925 0.017901499624490252 1.3811792361831419; 0.0 1.4396172939523868 -1.0468472078636566 -1.7041346087530742; 0.0 0.0 0.7559716573279959 0.3943677166018832; 0.0 0.0 0.0 0.6796656729913809])"
      ]
     },
     "execution_count": 15,
     "metadata": {},
     "output_type": "execute_result"
    }
   ],
   "source": [
    "Q, R = qrDecomposition(A)"
   ]
  },
  {
   "cell_type": "markdown",
   "id": "0662ad10",
   "metadata": {},
   "source": [
    "Verificando a igualdade $A = QR$"
   ]
  },
  {
   "cell_type": "code",
   "execution_count": 17,
   "id": "12d60b4c",
   "metadata": {},
   "outputs": [
    {
     "data": {
      "text/plain": [
       "4×4 Matrix{Float64}:\n",
       " -1.18967    -0.683629   0.836411  -0.000646688\n",
       "  0.0043093  -0.749437   0.177539   1.17605\n",
       " -1.15811     0.204138  -0.724151  -1.76278\n",
       "  0.289404   -1.01461    0.642031   0.968888"
      ]
     },
     "execution_count": 17,
     "metadata": {},
     "output_type": "execute_result"
    }
   ],
   "source": [
    "Q*R"
   ]
  },
  {
   "cell_type": "code",
   "execution_count": 16,
   "id": "a5622425",
   "metadata": {},
   "outputs": [
    {
     "data": {
      "text/plain": [
       "true"
      ]
     },
     "execution_count": 16,
     "metadata": {},
     "output_type": "execute_result"
    }
   ],
   "source": [
    "norm(A - Q*R) <= 1e-15"
   ]
  },
  {
   "cell_type": "markdown",
   "id": "5cb749d2",
   "metadata": {},
   "source": [
    "Verificando se Q é ortonormal"
   ]
  },
  {
   "cell_type": "code",
   "execution_count": 13,
   "id": "e703024f",
   "metadata": {},
   "outputs": [
    {
     "data": {
      "text/plain": [
       "4×4 Matrix{Float64}:\n",
       "  1.0           7.35388e-17  -4.38525e-16   1.82403e-16\n",
       "  7.35388e-17   1.0           2.64821e-16  -2.33048e-16\n",
       " -4.38525e-16   2.64821e-16   1.0          -1.94122e-17\n",
       "  1.82403e-16  -2.33048e-16  -1.94122e-17   1.0"
      ]
     },
     "execution_count": 13,
     "metadata": {},
     "output_type": "execute_result"
    }
   ],
   "source": [
    "Q*Q'"
   ]
  },
  {
   "cell_type": "code",
   "execution_count": 20,
   "id": "500d16e2",
   "metadata": {},
   "outputs": [
    {
     "data": {
      "text/plain": [
       "true"
      ]
     },
     "execution_count": 20,
     "metadata": {},
     "output_type": "execute_result"
    }
   ],
   "source": [
    "norm(I - Q*Q') <= 1e-15"
   ]
  }
 ],
 "metadata": {
  "kernelspec": {
   "display_name": "Julia 1.6.2",
   "language": "julia",
   "name": "julia-1.6"
  },
  "language_info": {
   "file_extension": ".jl",
   "mimetype": "application/julia",
   "name": "julia",
   "version": "1.6.2"
  }
 },
 "nbformat": 4,
 "nbformat_minor": 5
}
